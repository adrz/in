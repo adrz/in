{
  "nbformat": 4,
  "nbformat_minor": 0,
  "metadata": {
    "kernelspec": {
      "display_name": "Python 3",
      "language": "python",
      "name": "python3"
    },
    "language_info": {
      "codemirror_mode": {
        "name": "ipython",
        "version": 3
      },
      "file_extension": ".py",
      "mimetype": "text/x-python",
      "name": "python",
      "nbconvert_exporter": "python",
      "pygments_lexer": "ipython3",
      "version": "3.7.4"
    },
    "colab": {
      "name": "manipulation.ipynb",
      "provenance": []
    }
  },
  "cells": [
    {
      "cell_type": "markdown",
      "metadata": {
        "id": "2pzjWO6hm7iQ",
        "colab_type": "text"
      },
      "source": [
        "# Exercice de manipulation de données manipulation de données\n",
        "\n",
        "## Objectifs\n",
        "\n",
        "Créé un fonction qui transforme un fichier au format json en un fichier texte\n",
        "\n",
        "Format du fichier json detection.json:\n",
        "\n",
        "```json\n",
        "{\"file\": \"train_00003714.jpg\", # nom du fichier\n",
        " \"image_size\": [{\"width\": 180, \"height\": 180}], # taille de l'image\n",
        " \"objects\": [\n",
        "         {\"class_id\": 0, \"xmin\": 10, \"xmax\": 100, \"ymin\": 40, \"ymax\": 123},\n",
        "         {\"class_id\": 1, \"xmin\": 10, \"xmax\": 80, \"ymin\": 40, \"ymax\": 123}]\n",
        "}\n",
        "```\n",
        "\n",
        "![illustration.jpg](https://i.ibb.co/ZHjLY9h/illustration.jpg)\n",
        "\n",
        "\n",
        "Le fichier de de sortie doit avoir une ligne par d'\"objects\".\n",
        "Une ligne d'annotation est du format:\n",
        "\n",
        "```\n",
        "filename class_id left top width_obj height_obj\n",
        "```\n",
        "\n",
        "avec:\n",
        " - left : coordonnée x du point en haut à gauche de l'objet\n",
        " - top : coordonnée y du point en bas à droite de l'objet\n",
        " - width_obj: largeur de l'objet\n",
        " - height_obj: hauteur de l'objet\n",
        "\n",
        "La fonction prend en entrée un nom de fichier et retourne la chaine de caractère à écrire dans le fichier."
      ]
    },
    {
      "cell_type": "code",
      "metadata": {
        "id": "t42yiPYem7iR",
        "colab_type": "code",
        "colab": {}
      },
      "source": [
        ""
      ],
      "execution_count": 0,
      "outputs": []
    }
  ]
}